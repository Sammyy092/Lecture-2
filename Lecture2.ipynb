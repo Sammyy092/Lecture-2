{
 "cells": [
  {
   "cell_type": "markdown",
   "id": "55cd6d8a-651c-41f6-a098-3fabaf924fee",
   "metadata": {},
   "source": [
    "# Variables"
   ]
  },
  {
   "cell_type": "code",
   "execution_count": 1,
   "id": "83e4f006-9c60-4075-9a28-c6027c87f38c",
   "metadata": {},
   "outputs": [
    {
     "name": "stdout",
     "output_type": "stream",
     "text": [
      "Hello\n"
     ]
    }
   ],
   "source": [
    "x = 'Hello'\n",
    "print (x)"
   ]
  },
  {
   "cell_type": "code",
   "execution_count": 2,
   "id": "c3b56521-57d3-4be5-8b20-a5b9d24efa2b",
   "metadata": {},
   "outputs": [
    {
     "name": "stdout",
     "output_type": "stream",
     "text": [
      "Hello\n",
      "John\n"
     ]
    }
   ],
   "source": [
    "x = 'Hello'\n",
    "print(x)\n",
    "x = 'John'\n",
    "print(x)"
   ]
  },
  {
   "cell_type": "markdown",
   "id": "5bc0e72e-56c5-4c48-8984-ccf4cf5934a9",
   "metadata": {},
   "source": [
    "# Assignment"
   ]
  },
  {
   "cell_type": "code",
   "execution_count": 3,
   "id": "12934462-6fa6-4e8d-b783-cbf360dab05a",
   "metadata": {},
   "outputs": [
    {
     "name": "stdout",
     "output_type": "stream",
     "text": [
      "2\n",
      "3\n"
     ]
    }
   ],
   "source": [
    "x,y = 2,3\n",
    "print (x)\n",
    "print(y)"
   ]
  },
  {
   "cell_type": "markdown",
   "id": "9a59cf54-693d-469d-8723-73038377adc5",
   "metadata": {},
   "source": [
    "# Naming"
   ]
  },
  {
   "cell_type": "code",
   "execution_count": 4,
   "id": "5d7da01c-ed02-488b-9912-3121c0d55a0e",
   "metadata": {},
   "outputs": [
    {
     "name": "stdout",
     "output_type": "stream",
     "text": [
      "John\n"
     ]
    }
   ],
   "source": [
    "_name= 'John'\n",
    "print(_name)"
   ]
  },
  {
   "cell_type": "code",
   "execution_count": 6,
   "id": "cda3a59b-e07e-4499-bf4e-691245737b72",
   "metadata": {},
   "outputs": [
    {
     "ename": "SyntaxError",
     "evalue": "invalid syntax (82861622.py, line 1)",
     "output_type": "error",
     "traceback": [
      "\u001b[0;36m  File \u001b[0;32m\"/var/folders/wr/q6bztrc92xz8cyd54xn251j40000gn/T/ipykernel_7441/82861622.py\"\u001b[0;36m, line \u001b[0;32m1\u001b[0m\n\u001b[0;31m    9name= 'John'\u001b[0m\n\u001b[0m     ^\u001b[0m\n\u001b[0;31mSyntaxError\u001b[0m\u001b[0;31m:\u001b[0m invalid syntax\n"
     ]
    }
   ],
   "source": [
    "9name= 'John'\n",
    "print(9name)"
   ]
  },
  {
   "cell_type": "code",
   "execution_count": 7,
   "id": "b142617c-325a-4cce-aed2-02de7e097ac6",
   "metadata": {},
   "outputs": [
    {
     "name": "stdout",
     "output_type": "stream",
     "text": [
      "John\n"
     ]
    }
   ],
   "source": [
    "na9me= 'John'\n",
    "print(na9me)"
   ]
  },
  {
   "cell_type": "code",
   "execution_count": 8,
   "id": "79e785aa-9b8a-4ea9-a7a2-2d952954dfad",
   "metadata": {},
   "outputs": [
    {
     "ename": "NameError",
     "evalue": "name 'anSwer' is not defined",
     "output_type": "error",
     "traceback": [
      "\u001b[0;31m---------------------------------------------------------------------------\u001b[0m",
      "\u001b[0;31mNameError\u001b[0m                                 Traceback (most recent call last)",
      "\u001b[0;32m/var/folders/wr/q6bztrc92xz8cyd54xn251j40000gn/T/ipykernel_7441/2122737591.py\u001b[0m in \u001b[0;36m<module>\u001b[0;34m\u001b[0m\n\u001b[1;32m      1\u001b[0m \u001b[0manswer\u001b[0m \u001b[0;34m=\u001b[0m \u001b[0;34m'Correct'\u001b[0m\u001b[0;34m\u001b[0m\u001b[0;34m\u001b[0m\u001b[0m\n\u001b[0;32m----> 2\u001b[0;31m \u001b[0mprint\u001b[0m\u001b[0;34m(\u001b[0m\u001b[0manSwer\u001b[0m\u001b[0;34m)\u001b[0m\u001b[0;34m\u001b[0m\u001b[0;34m\u001b[0m\u001b[0m\n\u001b[0m",
      "\u001b[0;31mNameError\u001b[0m: name 'anSwer' is not defined"
     ]
    }
   ],
   "source": [
    "answer = 'Correct'\n",
    "print(anSwer)"
   ]
  },
  {
   "cell_type": "code",
   "execution_count": 9,
   "id": "2c0d1f09-983e-476f-866a-87c7ca442f6c",
   "metadata": {},
   "outputs": [
    {
     "ename": "SyntaxError",
     "evalue": "cannot assign to True (3926644705.py, line 1)",
     "output_type": "error",
     "traceback": [
      "\u001b[0;36m  File \u001b[0;32m\"/var/folders/wr/q6bztrc92xz8cyd54xn251j40000gn/T/ipykernel_7441/3926644705.py\"\u001b[0;36m, line \u001b[0;32m1\u001b[0m\n\u001b[0;31m    True = 'John'\u001b[0m\n\u001b[0m    ^\u001b[0m\n\u001b[0;31mSyntaxError\u001b[0m\u001b[0;31m:\u001b[0m cannot assign to True\n"
     ]
    }
   ],
   "source": [
    "True = 'John'\n",
    "print(True)"
   ]
  },
  {
   "cell_type": "code",
   "execution_count": null,
   "id": "84c0a06f-e364-480e-ae4b-006374b90938",
   "metadata": {},
   "outputs": [],
   "source": []
  }
 ],
 "metadata": {
  "kernelspec": {
   "display_name": "Python 3 (ipykernel)",
   "language": "python",
   "name": "python3"
  },
  "language_info": {
   "codemirror_mode": {
    "name": "ipython",
    "version": 3
   },
   "file_extension": ".py",
   "mimetype": "text/x-python",
   "name": "python",
   "nbconvert_exporter": "python",
   "pygments_lexer": "ipython3",
   "version": "3.9.13"
  }
 },
 "nbformat": 4,
 "nbformat_minor": 5
}
